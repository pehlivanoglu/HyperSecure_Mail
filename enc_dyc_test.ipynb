{
 "cells": [
  {
   "cell_type": "code",
   "execution_count": 1,
   "id": "a43f6800-4887-43b4-b26b-e63261794bcf",
   "metadata": {},
   "outputs": [],
   "source": [
    "from OpenSSL import crypto\n",
    "from cryptography.hazmat.primitives import serialization\n",
    "from cryptography.hazmat.primitives.asymmetric import padding\n",
    "from cryptography.hazmat.primitives import hashes\n",
    "from cryptography.hazmat.backends import default_backend\n",
    "from cryptography.hazmat.primitives.ciphers import Cipher, algorithms, modes\n",
    "from cryptography.hazmat.primitives import padding as sym_padding\n",
    "import os"
   ]
  },
  {
   "cell_type": "code",
   "execution_count": 2,
   "id": "aebefda3-1014-42b9-8a29-35c785718b8c",
   "metadata": {},
   "outputs": [],
   "source": [
    "# START OF CREATING PUBLIC-PRIVATE KEY PAIR\n",
    "# Generate a key pair of type RSA and size 2048 bits\n",
    "key = crypto.PKey()\n",
    "key.generate_key(crypto.TYPE_RSA, 2048)"
   ]
  },
  {
   "cell_type": "code",
   "execution_count": 3,
   "id": "75fe432d-1093-48a5-b82d-f9a65b5fa7a9",
   "metadata": {},
   "outputs": [],
   "source": [
    "private_key = crypto.dump_privatekey(crypto.FILETYPE_PEM, key).decode('utf-8')"
   ]
  },
  {
   "cell_type": "code",
   "execution_count": 4,
   "id": "cf11fbd1-8986-4171-af5d-bafc6644a751",
   "metadata": {},
   "outputs": [],
   "source": [
    "public_key = crypto.dump_publickey(crypto.FILETYPE_PEM, key).decode('utf-8')"
   ]
  },
  {
   "cell_type": "code",
   "execution_count": 5,
   "id": "9bee4d92-131c-4cdf-9742-8ceda1deda5a",
   "metadata": {},
   "outputs": [],
   "source": [
    "# print(\"Private Key:\")\n",
    "# print(private_key)\n",
    "\n",
    "# print(\"Public Key:\")\n",
    "# print(public_key)\n",
    "\n",
    "# Optionally, you can write these keys to files\n",
    "with open(\"CS447 Project/Key-Pairs/private_key.pem\", \"w\") as f:\n",
    "    f.write(private_key)\n",
    "\n",
    "with open(\"CS447 Project/Key-Pairs/public_key.pem\", \"w\") as f:\n",
    "    f.write(public_key)\n",
    "\n",
    "# END OF CREATING PUBLIC-PRIVATE KEY PAIR"
   ]
  },
  {
   "cell_type": "code",
   "execution_count": 6,
   "id": "2e5e2d59-a57a-4265-8486-602f7b6f06f0",
   "metadata": {},
   "outputs": [],
   "source": [
    "#START OF ENCRYPTING THE FILE\n",
    "\n",
    "# Load the public key\n",
    "with open(\"CS447 Project/Key-Pairs/public_key.pem\", \"rb\") as key_file:\n",
    "    public_key = serialization.load_pem_public_key(\n",
    "        key_file.read(),\n",
    "        backend=default_backend()\n",
    "    )"
   ]
  },
  {
   "cell_type": "code",
   "execution_count": 7,
   "id": "bd6e1501-52b7-4ab9-b8da-698cd1e9b6c8",
   "metadata": {},
   "outputs": [],
   "source": [
    "# Generate a random symmetric key (for AES encryption)\n",
    "symmetric_key = os.urandom(32)  # AES-256 key"
   ]
  },
  {
   "cell_type": "code",
   "execution_count": 8,
   "id": "05ad2589-d59a-4233-80b8-c5978359d3bd",
   "metadata": {},
   "outputs": [],
   "source": [
    "# Encrypt the symmetric key using the public key\n",
    "encrypted_symmetric_key = public_key.encrypt(\n",
    "    symmetric_key,\n",
    "    padding.OAEP(\n",
    "        mgf=padding.MGF1(algorithm=hashes.SHA256()),\n",
    "        algorithm=hashes.SHA256(),\n",
    "        label=None\n",
    "    )\n",
    ")"
   ]
  },
  {
   "cell_type": "code",
   "execution_count": 9,
   "id": "e338cfd6-66ea-4b18-8d71-ab96c48118bb",
   "metadata": {},
   "outputs": [],
   "source": [
    "# Read the file to encrypt\n",
    "file_path = 'CS447 Project/Key-Pairs/test.txt'\n",
    "with open(file_path, 'rb') as f:\n",
    "    file_data = f.read()"
   ]
  },
  {
   "cell_type": "code",
   "execution_count": 10,
   "id": "4147680a-199e-474b-873d-a181fb121541",
   "metadata": {},
   "outputs": [],
   "source": [
    "# Pad and encrypt the file data using the symmetric key\n",
    "padder = sym_padding.PKCS7(128).padder() \n",
    "padded_data = padder.update(file_data) + padder.finalize()"
   ]
  },
  {
   "cell_type": "code",
   "execution_count": 11,
   "id": "595587d5-56cd-4648-bb57-ee581e975331",
   "metadata": {},
   "outputs": [],
   "source": [
    "cipher = Cipher(algorithms.AES(symmetric_key), modes.CBC(os.urandom(16)), backend=default_backend())\n",
    "encryptor = cipher.encryptor()\n",
    "encrypted_data = encryptor.update(padded_data) + encryptor.finalize()"
   ]
  },
  {
   "cell_type": "code",
   "execution_count": 12,
   "id": "6f306370-0fcd-4e97-b46b-bb2410515fc5",
   "metadata": {},
   "outputs": [],
   "source": [
    "# Save the encrypted data and the encrypted symmetric key\n",
    "with open('CS447 Project/Key-Pairs/encrypted_file', 'wb') as f:\n",
    "    f.write(encrypted_data)"
   ]
  },
  {
   "cell_type": "code",
   "execution_count": 13,
   "id": "273d5560-59ed-48e9-b007-f512af8a195c",
   "metadata": {},
   "outputs": [],
   "source": [
    "with open('CS447 Project/Key-Pairs/encrypted_key', 'wb') as f:\n",
    "    f.write(encrypted_symmetric_key)\n",
    "\n",
    "#END OF ENCRYPTING THE FILE"
   ]
  },
  {
   "cell_type": "code",
   "execution_count": 14,
   "id": "9a11e23c-dc7b-4126-bd06-43f6910012c9",
   "metadata": {},
   "outputs": [],
   "source": [
    "#START OF DECRYPTING THE FILE\n",
    "# Load the private key\n",
    "with open(\"CS447 Project/Key-Pairs/private_key.pem\", \"rb\") as key_file:\n",
    "    private_key = serialization.load_pem_private_key(\n",
    "        key_file.read(),\n",
    "        password=None,\n",
    "        backend=default_backend()\n",
    "    )"
   ]
  },
  {
   "cell_type": "code",
   "execution_count": 15,
   "id": "3f372fa9-2e6d-4d21-b07e-74e0ffff475c",
   "metadata": {},
   "outputs": [],
   "source": [
    "# Load the encrypted symmetric key\n",
    "with open('CS447 Project/Key-Pairs/encrypted_key', 'rb') as f:\n",
    "    encrypted_symmetric_key = f.read()\n",
    "\n",
    "# Decrypt the symmetric key\n",
    "symmetric_key = private_key.decrypt(\n",
    "    encrypted_symmetric_key,\n",
    "    padding.OAEP(\n",
    "        mgf=padding.MGF1(algorithm=hashes.SHA256()),\n",
    "        algorithm=hashes.SHA256(),\n",
    "        label=None\n",
    "    )\n",
    ")"
   ]
  },
  {
   "cell_type": "code",
   "execution_count": 16,
   "id": "f2435290-14cb-4346-8fbc-5eb17170ea83",
   "metadata": {},
   "outputs": [],
   "source": [
    "# Load the encrypted file data\n",
    "with open('CS447 Project/Key-Pairs/encrypted_file', 'rb') as f:\n",
    "    iv = f.read(16)  # Assuming a 16-byte IV for AES\n",
    "    encrypted_data = f.read()"
   ]
  },
  {
   "cell_type": "code",
   "execution_count": 17,
   "id": "f5b23855-3217-4178-b370-a8d4eee855cb",
   "metadata": {},
   "outputs": [],
   "source": [
    "# Decrypt the file data using the symmetric key and the IV\n",
    "cipher = Cipher(algorithms.AES(symmetric_key), modes.CBC(iv), backend=default_backend())\n",
    "decryptor = cipher.decryptor()\n",
    "padded_data = decryptor.update(encrypted_data) + decryptor.finalize()"
   ]
  },
  {
   "cell_type": "code",
   "execution_count": 18,
   "id": "2d9d1d6e-8681-4efa-906e-a8b85ac4b5bd",
   "metadata": {},
   "outputs": [],
   "source": [
    "# Unpad the decrypted data\n",
    "unpadder = sym_padding.PKCS7(128).unpadder()\n",
    "decrypted_data = unpadder.update(padded_data) + unpadder.finalize()"
   ]
  },
  {
   "cell_type": "code",
   "execution_count": 19,
   "id": "ddde3a55-5ccf-4677-9bef-d5eae02d1c52",
   "metadata": {},
   "outputs": [],
   "source": [
    "# Save or process the decrypted data\n",
    "with open('CS447 Project/Key-Pairs/decrypted_file', 'wb') as f:\n",
    "    f.write(decrypted_data)"
   ]
  },
  {
   "cell_type": "code",
   "execution_count": null,
   "id": "17fc209d-0f6f-4938-8ae1-bcbee3320add",
   "metadata": {},
   "outputs": [],
   "source": []
  }
 ],
 "metadata": {
  "kernelspec": {
   "display_name": "Python 3 (ipykernel)",
   "language": "python",
   "name": "python3"
  },
  "language_info": {
   "codemirror_mode": {
    "name": "ipython",
    "version": 3
   },
   "file_extension": ".py",
   "mimetype": "text/x-python",
   "name": "python",
   "nbconvert_exporter": "python",
   "pygments_lexer": "ipython3",
   "version": "3.8.10"
  }
 },
 "nbformat": 4,
 "nbformat_minor": 5
}
