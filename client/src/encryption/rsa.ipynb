{
 "cells": [
  {
   "cell_type": "code",
   "execution_count": 1,
   "id": "78ef0e47-fe0a-401e-8b98-9b2d79ee8903",
   "metadata": {},
   "outputs": [],
   "source": [
    "from OpenSSL import crypto        "
   ]
  },
  {
   "cell_type": "code",
   "execution_count": 23,
   "id": "12e93999-d575-4844-809c-0929638e497f",
   "metadata": {},
   "outputs": [],
   "source": [
    "class RSA:\n",
    "    def __init__(self):\n",
    "        self.key = crypto.PKey()\n",
    "        self.key.generate_key(crypto.TYPE_RSA, 2048)\n",
    "        \n",
    "    def generate_private_key(self):\n",
    "        private_key = crypto.dump_privatekey(crypto.FILETYPE_PEM, self.key).decode('utf-8')\n",
    "        return private_key\n",
    "\n",
    "    def generate_public_key(self):\n",
    "        public_key = crypto.dump_publickey(crypto.FILETYPE_PEM, self.key).decode('utf-8')\n",
    "        return public_key\n",
    "\n",
    "    def save_key(self, key, filename):\n",
    "        with open(f\"../Key-Pairs/{filename}.pem\", \"w\") as f:\n",
    "            f.write(key)\n",
    "\n",
    "    def run(self):\n",
    "        priv_key = self.generate_private_key()\n",
    "        pub_key  = self.generate_public_key()\n",
    "        self.save_key(priv_key, \"private_key\")\n",
    "        self.save_key(pub_key, \"public_key\")"
   ]
  },
  {
   "cell_type": "code",
   "execution_count": 25,
   "id": "7afbb6dc-3d96-4bc3-86f9-2bd8680b85de",
   "metadata": {},
   "outputs": [],
   "source": [
    "x = RSA()\n",
    "x.run()"
   ]
  },
  {
   "cell_type": "code",
   "execution_count": null,
   "id": "af985951-2723-4c05-8afe-0a98ed7b383d",
   "metadata": {},
   "outputs": [],
   "source": []
  }
 ],
 "metadata": {
  "kernelspec": {
   "display_name": "Python 3 (ipykernel)",
   "language": "python",
   "name": "python3"
  },
  "language_info": {
   "codemirror_mode": {
    "name": "ipython",
    "version": 3
   },
   "file_extension": ".py",
   "mimetype": "text/x-python",
   "name": "python",
   "nbconvert_exporter": "python",
   "pygments_lexer": "ipython3",
   "version": "3.8.10"
  }
 },
 "nbformat": 4,
 "nbformat_minor": 5
}
